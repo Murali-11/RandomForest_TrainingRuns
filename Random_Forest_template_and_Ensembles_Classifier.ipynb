{
 "cells": [
  {
   "cell_type": "markdown",
   "id": "07da6f72-e81c-406f-acf3-059e17ff7cfb",
   "metadata": {},
   "source": [
    "1. First import all necesary libraries"
   ]
  },
  {
   "cell_type": "code",
   "execution_count": null,
   "id": "1eec38d6-2392-4106-995c-dbdf3846309a",
   "metadata": {},
   "outputs": [],
   "source": [
    "import numpy as np # linear algebra\n",
    "import pandas as pd # data processing, CSV file I/O (e.g. pd.read_csv)\n",
    "\n",
    "\n",
    "from sklearn.linear_model import LogisticRegression\n",
    "from sklearn.svm import SVC#\n",
    "\n"
   ]
  },
  {
   "cell_type": "markdown",
   "id": "6f57aeff-c2d0-4941-9dc1-ccb26b843bef",
   "metadata": {},
   "source": [
    "2. Read & Understand Data"
   ]
  },
  {
   "cell_type": "code",
   "execution_count": null,
   "id": "1817be73-c96e-4d57-86f9-49ad0d8a9f41",
   "metadata": {},
   "outputs": [],
   "source": [
    "df = pd.read_csv(\"______\")\n",
    "df.head(5)"
   ]
  },
  {
   "cell_type": "markdown",
   "id": "4ca225a2-5b80-4345-94fb-1475aa15922d",
   "metadata": {},
   "source": [
    "3. Clean Data"
   ]
  },
  {
   "cell_type": "code",
   "execution_count": null,
   "id": "3963a80d-b3e5-421b-9f26-d9ef7727aba3",
   "metadata": {},
   "outputs": [],
   "source": [
    "# Check for missing values\n",
    "df.isnull().sum()"
   ]
  },
  {
   "cell_type": "code",
   "execution_count": null,
   "id": "5e5d43db-74e5-4508-b84d-919071c27999",
   "metadata": {},
   "outputs": [],
   "source": [
    "#Remove duplicates\n",
    "df_cleaned = df.drop_duplicates()"
   ]
  },
  {
   "cell_type": "code",
   "execution_count": null,
   "id": "3169368f-149f-4cc4-8070-61417a1e7c46",
   "metadata": {},
   "outputs": [],
   "source": [
    "#One hot encoding if required\n",
    "\n",
    "df = pd.get_dummies(df, columns = ['column_here'])\n",
    "\n",
    "#ordinal coding if required\n",
    "\n",
    "from sklearn.preprocessing import LabelEncoder\n",
    "le = LabelEncoder()\n",
    "df['columhere'] = le.fit_transform(df['column_here'])"
   ]
  },
  {
   "cell_type": "markdown",
   "id": "8c12e25f-1e57-403b-8b42-1a0f76d2e81f",
   "metadata": {},
   "source": [
    "4.Do any other data transformations here "
   ]
  },
  {
   "cell_type": "code",
   "execution_count": null,
   "id": "e04ebbf3-4610-4705-a2ab-3f08c51c3d0f",
   "metadata": {},
   "outputs": [],
   "source": [
    "#Split dataframe into features and target\n",
    "\n",
    "X = df.drop('targetcol', axis = 1)\n",
    "\n",
    "y = df['targetcol']"
   ]
  },
  {
   "cell_type": "markdown",
   "id": "436f2fd8-910c-4866-a0e9-60f54d8498fc",
   "metadata": {},
   "source": [
    "5. Run Data Prediction- Random Forest as Baseline Model"
   ]
  },
  {
   "cell_type": "code",
   "execution_count": null,
   "id": "0f7fe7f3-0406-487e-9358-fbdcf261d067",
   "metadata": {},
   "outputs": [],
   "source": [
    "#test train split\n",
    "from sklearn.model_selection import train_test_split\n",
    "\n",
    "X_train, X_test, y_train, y_test = train_test_split(X,y, test_size=0.2,random_state=42)"
   ]
  },
  {
   "cell_type": "code",
   "execution_count": null,
   "id": "566d7888-bb42-46b6-a512-7071bbfb9026",
   "metadata": {},
   "outputs": [],
   "source": [
    "from sklearn.ensemble import RandomForestClassifier\n",
    "\n",
    "rf = RandomForestClassifier()\n",
    "model = rf.fit(X_train,y_train)"
   ]
  },
  {
   "cell_type": "code",
   "execution_count": null,
   "id": "84a832fa-532a-4b88-8f98-9ba61a4eac1a",
   "metadata": {},
   "outputs": [],
   "source": [
    "##Cross Validation Random Forest to check for consistency \n",
    "\n",
    "from sklearn.model_selection import cross_val_score\n",
    "\n",
    "# Perform 5-fold cross-validation\n",
    "cv_scores = cross_val_score(model, X_train, y_train, cv=5)\n",
    "\n",
    "# Print results\n",
    "print(\"\\nCross-validation scores:\", cv_scores)\n",
    "print(\"Average CV score:\", cv_scores.mean())\n",
    "print(\"CV score standard deviation:\", cv_scores.std())"
   ]
  },
  {
   "cell_type": "code",
   "execution_count": null,
   "id": "7c5072a7-45bd-42b7-9899-a81cdd2b920a",
   "metadata": {},
   "outputs": [],
   "source": [
    "#predict features for full set accuracy\n",
    " \n",
    "y_pred = model.predict(X_test)\n",
    "\n",
    "from sklearn.metrics import accuracy_score, classification_report, confusion_matrix\n",
    "\n",
    "#calculate accuracy\n",
    "\n",
    "accuracy = accuracy_score(y_test, y_pred)\n",
    "print(f\"Accuracy: {accuracy:.2f}\")\n",
    "\n",
    "# Detailed classification report\n",
    "print(\"\\nClassification Report:\")\n",
    "print(classification_report(y_test, y_pred))\n",
    "\n",
    "# Confusion matrix\n",
    "print(\"\\nConfusion Matrix:\")\n",
    "print(confusion_matrix(y_test, y_pred))"
   ]
  },
  {
   "cell_type": "code",
   "execution_count": null,
   "id": "e68448c9-055b-4d8b-90f4-3e3ddbf9b658",
   "metadata": {},
   "outputs": [],
   "source": [
    "#Feature Importance\n",
    "# Get feature importance\n",
    "feature_importance = pd.DataFrame({\n",
    "    'feature': X.columns,\n",
    "    'importance': model.feature_importances_\n",
    "})\n",
    "\n",
    "# Sort by importance\n",
    "feature_importance = feature_importance.sort_values('importance', ascending=False)\n",
    "print(\"\\nFeature Importance:\")\n",
    "print(feature_importance)"
   ]
  },
  {
   "cell_type": "markdown",
   "id": "36e951d0-aa1f-449d-ba6d-fc87e67d1c40",
   "metadata": {},
   "source": [
    "5. Run Voting Classifer to test accuracy on a range of classifiers and hyperparameters (in this case, randomforest, logistic regression and Support Vector Machine)"
   ]
  },
  {
   "cell_type": "code",
   "execution_count": null,
   "id": "8cddd13c-96f7-4bce-b926-c412e3b3bd44",
   "metadata": {},
   "outputs": [],
   "source": []
  }
 ],
 "metadata": {
  "kernelspec": {
   "display_name": "Python 3 (ipykernel)",
   "language": "python",
   "name": "python3"
  },
  "language_info": {
   "codemirror_mode": {
    "name": "ipython",
    "version": 3
   },
   "file_extension": ".py",
   "mimetype": "text/x-python",
   "name": "python",
   "nbconvert_exporter": "python",
   "pygments_lexer": "ipython3",
   "version": "3.12.4"
  }
 },
 "nbformat": 4,
 "nbformat_minor": 5
}
